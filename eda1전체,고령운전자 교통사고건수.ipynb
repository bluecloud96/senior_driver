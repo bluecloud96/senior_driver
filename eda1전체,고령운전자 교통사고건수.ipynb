{
 "cells": [
  {
   "cell_type": "code",
   "execution_count": 5,
   "id": "3f14b8a3-5ec3-4330-ba03-9850d0e49329",
   "metadata": {
    "tags": []
   },
   "outputs": [],
   "source": [
    "from matplotlib import pyplot as plt\n",
    "import pandas as pd"
   ]
  },
  {
   "cell_type": "code",
   "execution_count": 6,
   "id": "bf2737ae-a120-441e-b533-4c552f74d204",
   "metadata": {
    "tags": []
   },
   "outputs": [],
   "source": [
    "from matplotlib import font_manager,rc\n",
    "\n",
    "plt.rc(\"font\",family = \"AppleGothic\")"
   ]
  },
  {
   "cell_type": "code",
   "execution_count": 16,
   "id": "54c9cb21-b9a6-4c52-ae15-d5dc0e844b94",
   "metadata": {
    "tags": []
   },
   "outputs": [],
   "source": [
    "whole_car_accident = pd.read_excel(\"/Users/ayounglee/Desktop/multicampus/고령운전자 교통사고/가공/20142023전체교통사고건수.xlsx\",\n",
    "                                   engine = \"openpyxl\",header = 0)"
   ]
  },
  {
   "cell_type": "code",
   "execution_count": 8,
   "id": "4c646385-7139-4086-8b37-ceca7c80e4ff",
   "metadata": {
    "tags": []
   },
   "outputs": [],
   "source": [
    "whole_car_accident = whole_car_accident.set_index('기준년도')"
   ]
  },
  {
   "cell_type": "code",
   "execution_count": 9,
   "id": "b197c1d5-414f-4893-862c-fc8ac16ecac1",
   "metadata": {
    "tags": []
   },
   "outputs": [],
   "source": [
    "count_accident = whole_car_accident[['교통사고건수(건)']]"
   ]
  },
  {
   "cell_type": "code",
   "execution_count": 10,
   "id": "bc637223-94f5-418c-bba2-5663f0d05f8d",
   "metadata": {
    "tags": []
   },
   "outputs": [
    {
     "data": {
      "text/html": [
       "<div>\n",
       "<style scoped>\n",
       "    .dataframe tbody tr th:only-of-type {\n",
       "        vertical-align: middle;\n",
       "    }\n",
       "\n",
       "    .dataframe tbody tr th {\n",
       "        vertical-align: top;\n",
       "    }\n",
       "\n",
       "    .dataframe thead th {\n",
       "        text-align: right;\n",
       "    }\n",
       "</style>\n",
       "<table border=\"1\" class=\"dataframe\">\n",
       "  <thead>\n",
       "    <tr style=\"text-align: right;\">\n",
       "      <th></th>\n",
       "      <th>교통사고건수(건)</th>\n",
       "    </tr>\n",
       "    <tr>\n",
       "      <th>기준년도</th>\n",
       "      <th></th>\n",
       "    </tr>\n",
       "  </thead>\n",
       "  <tbody>\n",
       "    <tr>\n",
       "      <th>2023</th>\n",
       "      <td>198296</td>\n",
       "    </tr>\n",
       "    <tr>\n",
       "      <th>2022</th>\n",
       "      <td>196836</td>\n",
       "    </tr>\n",
       "    <tr>\n",
       "      <th>2021</th>\n",
       "      <td>203130</td>\n",
       "    </tr>\n",
       "    <tr>\n",
       "      <th>2020</th>\n",
       "      <td>209654</td>\n",
       "    </tr>\n",
       "    <tr>\n",
       "      <th>2019</th>\n",
       "      <td>229600</td>\n",
       "    </tr>\n",
       "    <tr>\n",
       "      <th>2018</th>\n",
       "      <td>217148</td>\n",
       "    </tr>\n",
       "    <tr>\n",
       "      <th>2017</th>\n",
       "      <td>216335</td>\n",
       "    </tr>\n",
       "    <tr>\n",
       "      <th>2016</th>\n",
       "      <td>220917</td>\n",
       "    </tr>\n",
       "    <tr>\n",
       "      <th>2015</th>\n",
       "      <td>232035</td>\n",
       "    </tr>\n",
       "    <tr>\n",
       "      <th>2014</th>\n",
       "      <td>223552</td>\n",
       "    </tr>\n",
       "  </tbody>\n",
       "</table>\n",
       "</div>"
      ],
      "text/plain": [
       "      교통사고건수(건)\n",
       "기준년도           \n",
       "2023     198296\n",
       "2022     196836\n",
       "2021     203130\n",
       "2020     209654\n",
       "2019     229600\n",
       "2018     217148\n",
       "2017     216335\n",
       "2016     220917\n",
       "2015     232035\n",
       "2014     223552"
      ]
     },
     "execution_count": 10,
     "metadata": {},
     "output_type": "execute_result"
    }
   ],
   "source": [
    "count_accident"
   ]
  },
  {
   "cell_type": "code",
   "execution_count": 11,
   "id": "474b7468-d327-4b93-846c-6b21d5215e67",
   "metadata": {
    "tags": []
   },
   "outputs": [],
   "source": [
    "senior_accident = pd.read_excel(\"/Users/ayounglee/Desktop/multicampus/고령운전자 교통사고/가공/20142023고령운전자 교통사고.xlsx\", engine = \"openpyxl\",header = 0)"
   ]
  },
  {
   "cell_type": "code",
   "execution_count": 12,
   "id": "3bc7534f-2c6d-40d6-a2f1-06df5e289572",
   "metadata": {
    "tags": []
   },
   "outputs": [
    {
     "data": {
      "text/html": [
       "<div>\n",
       "<style scoped>\n",
       "    .dataframe tbody tr th:only-of-type {\n",
       "        vertical-align: middle;\n",
       "    }\n",
       "\n",
       "    .dataframe tbody tr th {\n",
       "        vertical-align: top;\n",
       "    }\n",
       "\n",
       "    .dataframe thead th {\n",
       "        text-align: right;\n",
       "    }\n",
       "</style>\n",
       "<table border=\"1\" class=\"dataframe\">\n",
       "  <thead>\n",
       "    <tr style=\"text-align: right;\">\n",
       "      <th></th>\n",
       "      <th>연도</th>\n",
       "      <th>사고</th>\n",
       "      <th>사망</th>\n",
       "      <th>부상</th>\n",
       "    </tr>\n",
       "  </thead>\n",
       "  <tbody>\n",
       "    <tr>\n",
       "      <th>0</th>\n",
       "      <td>2023</td>\n",
       "      <td>39614</td>\n",
       "      <td>745</td>\n",
       "      <td>56067</td>\n",
       "    </tr>\n",
       "    <tr>\n",
       "      <th>1</th>\n",
       "      <td>2022</td>\n",
       "      <td>34652</td>\n",
       "      <td>735</td>\n",
       "      <td>49281</td>\n",
       "    </tr>\n",
       "    <tr>\n",
       "      <th>2</th>\n",
       "      <td>2021</td>\n",
       "      <td>31841</td>\n",
       "      <td>709</td>\n",
       "      <td>44713</td>\n",
       "    </tr>\n",
       "    <tr>\n",
       "      <th>3</th>\n",
       "      <td>2020</td>\n",
       "      <td>31072</td>\n",
       "      <td>720</td>\n",
       "      <td>44269</td>\n",
       "    </tr>\n",
       "    <tr>\n",
       "      <th>4</th>\n",
       "      <td>2019</td>\n",
       "      <td>33239</td>\n",
       "      <td>769</td>\n",
       "      <td>48223</td>\n",
       "    </tr>\n",
       "    <tr>\n",
       "      <th>5</th>\n",
       "      <td>2018</td>\n",
       "      <td>30012</td>\n",
       "      <td>843</td>\n",
       "      <td>43469</td>\n",
       "    </tr>\n",
       "    <tr>\n",
       "      <th>6</th>\n",
       "      <td>2017</td>\n",
       "      <td>26713</td>\n",
       "      <td>848</td>\n",
       "      <td>38627</td>\n",
       "    </tr>\n",
       "    <tr>\n",
       "      <th>7</th>\n",
       "      <td>2016</td>\n",
       "      <td>24429</td>\n",
       "      <td>759</td>\n",
       "      <td>35687</td>\n",
       "    </tr>\n",
       "    <tr>\n",
       "      <th>8</th>\n",
       "      <td>2015</td>\n",
       "      <td>23063</td>\n",
       "      <td>815</td>\n",
       "      <td>33787</td>\n",
       "    </tr>\n",
       "    <tr>\n",
       "      <th>9</th>\n",
       "      <td>2014</td>\n",
       "      <td>20275</td>\n",
       "      <td>763</td>\n",
       "      <td>29420</td>\n",
       "    </tr>\n",
       "  </tbody>\n",
       "</table>\n",
       "</div>"
      ],
      "text/plain": [
       "     연도     사고   사망     부상\n",
       "0  2023  39614  745  56067\n",
       "1  2022  34652  735  49281\n",
       "2  2021  31841  709  44713\n",
       "3  2020  31072  720  44269\n",
       "4  2019  33239  769  48223\n",
       "5  2018  30012  843  43469\n",
       "6  2017  26713  848  38627\n",
       "7  2016  24429  759  35687\n",
       "8  2015  23063  815  33787\n",
       "9  2014  20275  763  29420"
      ]
     },
     "execution_count": 12,
     "metadata": {},
     "output_type": "execute_result"
    }
   ],
   "source": [
    "senior_accident"
   ]
  },
  {
   "cell_type": "code",
   "execution_count": 13,
   "id": "f37bc371-7e8b-4cdd-9060-f23c9bab5aff",
   "metadata": {
    "tags": []
   },
   "outputs": [],
   "source": [
    "senior_accident = senior_accident.set_index(\"연도\")"
   ]
  },
  {
   "cell_type": "code",
   "execution_count": 14,
   "id": "14fd9885-8461-47bd-8e8b-b7e4f57aef1c",
   "metadata": {
    "tags": []
   },
   "outputs": [],
   "source": [
    "senior_accident_count = senior_accident[['사고']]"
   ]
  },
  {
   "cell_type": "code",
   "execution_count": 15,
   "id": "f5a2640a-aa68-465b-bdb6-e64476f20114",
   "metadata": {
    "tags": []
   },
   "outputs": [
    {
     "data": {
      "text/plain": [
       "<matplotlib.legend.Legend at 0x16586fd90>"
      ]
     },
     "execution_count": 15,
     "metadata": {},
     "output_type": "execute_result"
    },
    {
     "data": {
      "image/png": "[encoded data removed]",
      "text/plain": [
       "<Figure size 1200x600 with 1 Axes>"
      ]
     },
     "metadata": {},
     "output_type": "display_data"
    }
   ],
   "source": [
    "\n",
    "plt.figure(figsize=(12,6))\n",
    "plt.title('연도별 전체 교통사고 건수와 고령운전자 교통사고건수 비교')\n",
    "plt.xlabel(\"기간\")\n",
    "plt.ylabel(\"교통사고 건수\")\n",
    "plt.plot(count_accident,label = '전체 교통사고 건수',marker=\"o\",markersize = 3)\n",
    "plt.plot(senior_accident_count,label = '고령운전자 사고 건수',marker=\"o\",markersize = 3)\n",
    "plt.legend()"
   ]
  },
  {
   "cell_type": "code",
   "execution_count": null,
   "id": "318cf603-585b-44f4-9858-6be2e8b4f0c6",
   "metadata": {},
   "outputs": [],
   "source": []
  },
  {
   "cell_type": "code",
   "execution_count": null,
   "id": "cc22277d-cc2f-4bfb-b320-9535fbeb28f1",
   "metadata": {},
   "outputs": [],
   "source": []
  }
 ],
 "metadata": {
  "kernelspec": {
   "display_name": "Python 3 (ipykernel)",
   "language": "python",
   "name": "python3"
  },
  "language_info": {
   "codemirror_mode": {
    "name": "ipython",
    "version": 3
   },
   "file_extension": ".py",
   "mimetype": "text/x-python",
   "name": "python",
   "nbconvert_exporter": "python",
   "pygments_lexer": "ipython3",
   "version": "3.11.5"
  }
 },
 "nbformat": 4,
 "nbformat_minor": 5
}
